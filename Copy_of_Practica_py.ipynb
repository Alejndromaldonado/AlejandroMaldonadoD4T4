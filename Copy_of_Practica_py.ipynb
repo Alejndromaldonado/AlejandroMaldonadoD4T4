{
  "nbformat": 4,
  "nbformat_minor": 0,
  "metadata": {
    "colab": {
      "provenance": []
    },
    "kernelspec": {
      "name": "python3",
      "display_name": "Python 3"
    },
    "language_info": {
      "name": "python"
    }
  },
  "cells": [
    {
      "cell_type": "markdown",
      "source": [
        "# Ejercicios de programación con Python\n",
        "\n",
        "> Estos ejercicios hacen parte de la practica encontrada en la web https://aprendeconalf.es/docencia/python/ejercicios/tipos-datos/ en donde se reforzaran los conceptos en el manejo del lenguaje de programación Python.\n",
        "\n",
        "✅\n",
        "\n",
        "\n",
        "\n",
        "\n",
        "\n",
        "\n"
      ],
      "metadata": {
        "id": "F7-m9bKiIfLf"
      }
    },
    {
      "cell_type": "markdown",
      "source": [
        "Ejercicio 1\n",
        "Escribir un programa que muestre por pantalla la cadena ¡Hola Mundo!.\n",
        "\n",
        "\n"
      ],
      "metadata": {
        "id": "_gIDYtfJJqEl"
      }
    },
    {
      "cell_type": "code",
      "execution_count": null,
      "metadata": {
        "id": "1nhuCz1wIcVI"
      },
      "outputs": [],
      "source": []
    },
    {
      "cell_type": "markdown",
      "source": [
        "Ejercicio 2\n",
        "Escribir un programa que almacene la cadena ¡Hola Mundo! en una variable y luego muestre por pantalla el contenido de la variable."
      ],
      "metadata": {
        "id": "DJEqXQKHJvfu"
      }
    },
    {
      "cell_type": "code",
      "source": [],
      "metadata": {
        "id": "HNHKjtO2J5_W"
      },
      "execution_count": null,
      "outputs": []
    }
  ]
}